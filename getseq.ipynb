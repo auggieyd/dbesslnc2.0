{
 "cells": [
  {
   "cell_type": "markdown",
   "metadata": {},
   "source": [
    "# 获取DNA序列，使用rest api"
   ]
  },
  {
   "cell_type": "code",
   "execution_count": 7,
   "metadata": {},
   "outputs": [],
   "source": [
    "import requests, sys\n",
    "import pandas as pd\n",
    "\n",
    "#rest api config\n",
    "server = \"https://rest.ensembl.org\"\n",
    "ext = \"/sequence/region/human/\"\n",
    "\n",
    "input_file = \"./map/unmap.csv\"\n",
    "output_file1 = \"./map/seq.fa\"\n",
    "output_file2 = \"./map/seq_exon.fa\"\n",
    "\n",
    "\n",
    "\n",
    "df = pd.read_csv(input_file, names=['id', 'chr', 'start', 'end','strand'], header=None)\n"
   ]
  },
  {
   "cell_type": "code",
   "execution_count": null,
   "metadata": {},
   "outputs": [],
   "source": [
    "with open(output_file1, 'w') as fa_file:\n",
    "\n",
    "    for index, row in df.iterrows():\n",
    "        chr = row['chr'][3:]\n",
    "        start = row['start']\n",
    "        end = row['end']\n",
    "        strand = 1 if row['strand'] == '+' else -1\n",
    "        ext = f\"/sequence/region/human/{chr}:{start}..{end}:{strand}?mask=soft;\"\n",
    "        r = requests.get(server+ext, headers={ \"Content-Type\" : \"text/x-fasta\"})\n",
    "        if not r.ok:\n",
    "            r.raise_for_status()\n",
    "            sys.exit()\n",
    "        # fa_file.write(f\">{chr}:{start}-{end}\\n\")\n",
    "        fa_file.write(f\">{row['id']}\\n\")\n",
    "        fa_file.write(f\"{r.text}\\n\")\n",
    "        fa_file.write(\"\\n\")\n",
    "print(\"done\")"
   ]
  },
  {
   "cell_type": "code",
   "execution_count": 8,
   "metadata": {},
   "outputs": [
    {
     "name": "stdout",
     "output_type": "stream",
     "text": [
      "done\n"
     ]
    }
   ],
   "source": [
    "with open(output_file2, 'w') as fa_file:\n",
    "\n",
    "    for index, row in df.iterrows():\n",
    "        chr = row['chr'][3:]\n",
    "        start = row['start']\n",
    "        end = row['end']\n",
    "        strand = 1 if row['strand'] == '+' else -1\n",
    "        ext = f\"/sequence/region/human/{chr}:{start}..{end}:{strand}?mask_feature=1;\"\n",
    "        r = requests.get(server+ext, headers={ \"Content-Type\" : \"text/x-fasta\"})\n",
    "        if not r.ok:\n",
    "            r.raise_for_status()\n",
    "            sys.exit()\n",
    "        # fa_file.write(f\">{chr}:{start}-{end}\\n\")\n",
    "        fa_file.write(f\">{row['id']}\\n\")\n",
    "        fa_file.write(f\"{r.text}\\n\")\n",
    "        fa_file.write(\"\\n\")\n",
    "print(\"done\")"
   ]
  }
 ],
 "metadata": {
  "kernelspec": {
   "display_name": "base",
   "language": "python",
   "name": "python3"
  },
  "language_info": {
   "codemirror_mode": {
    "name": "ipython",
    "version": 3
   },
   "file_extension": ".py",
   "mimetype": "text/x-python",
   "name": "python",
   "nbconvert_exporter": "python",
   "pygments_lexer": "ipython3",
   "version": "3.8.18"
  }
 },
 "nbformat": 4,
 "nbformat_minor": 2
}
