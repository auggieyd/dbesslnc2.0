{
 "cells": [
  {
   "cell_type": "markdown",
   "metadata": {},
   "source": [
    "## Step1:Handling BED file format for easy processing"
   ]
  },
  {
   "cell_type": "code",
   "execution_count": 24,
   "metadata": {},
   "outputs": [],
   "source": [
    "import pandas as pd\n",
    "\n",
    "def get_group_key(nameid):\n",
    "        return nameid\n",
    "# find transcript\n",
    "def identify_transcript(group):\n",
    "    return group.iloc[(group[2] - group[1]).argmax()]\n",
    "\n",
    "def process_group(group):\n",
    "\n",
    "    transcript = identify_transcript(group)\n",
    "    # print(transcript)\n",
    "\n",
    "    exons = group[group.index != transcript.name].copy()\n",
    "    \n",
    "    if len(exons) == 0:\n",
    "        return None\n",
    "        \n",
    "\n",
    "    rel_starts = []\n",
    "    lengths = []\n",
    "    \n",
    "\n",
    "    exons = exons.sort_values(by=[1])\n",
    "    \n",
    "    for _, exon in exons.iterrows():\n",
    "        rel_start = exon[1] - transcript[1]\n",
    "        length = exon[2] - exon[1]\n",
    "        rel_starts.append(str(rel_start))\n",
    "        lengths.append(str(length))\n",
    "    \n",
    "    result_row = transcript.copy()\n",
    "    result_row[6] = ','.join(rel_starts)\n",
    "    result_row[7] = ','.join(lengths)\n",
    "    \n",
    "    return pd.DataFrame([result_row])\n",
    "\n",
    "# input the hg38 bed file\n",
    "bed_file = 'crispr_casrx38.bed'\n",
    "output_bed_file = 'seq_casrx.bed'\n",
    "df = pd.read_csv(bed_file, sep='\\t', header=None)\n",
    "df['group_key'] = df[3].apply(get_group_key)\n",
    "# print(df['group_key'].head(20))\n",
    "\n",
    "results = []\n",
    "for _, group in df.groupby('group_key'):\n",
    "    result = process_group(group)\n",
    "    if result is not None:\n",
    "        results.append(result)\n",
    "\n",
    "result = pd.concat(results)\n",
    "result = result.drop('group_key', axis=1)\n",
    "result.to_csv(output_bed_file, sep='\\t', header=False, index=False)"
   ]
  },
  {
   "cell_type": "markdown",
   "metadata": {},
   "source": [
    "## Step2: Generate sequence files at the gene level."
   ]
  },
  {
   "cell_type": "code",
   "execution_count": null,
   "metadata": {},
   "outputs": [],
   "source": [
    "!python get_seq.py"
   ]
  },
  {
   "cell_type": "markdown",
   "metadata": {},
   "source": [
    "## Step3: Trim and generate sequences"
   ]
  },
  {
   "cell_type": "code",
   "execution_count": 1,
   "metadata": {},
   "outputs": [],
   "source": [
    "import pandas as pd\n",
    "\n",
    "def parse_fasta_header(header):\n",
    "    fields = header[1:].split(':')\n",
    "    return {\n",
    "        'gene_id': fields[0],\n",
    "        'strand': int(fields[1]),\n",
    "        'start': int(fields[2]) - 1,\n",
    "        'end': int(fields[3])\n",
    "    }\n",
    "\n",
    "def get_transcript_seq(gene_seq, rel_starts, lengths, strand):\n",
    "    \"\"\"Obtain transcript sequences.\"\"\"\n",
    "    if strand == '-':\n",
    "        gene_seq = gene_seq[::-1]  \n",
    "    \n",
    "    exon_seqs = []\n",
    "    starts = [int(x) for x in rel_starts.split(',')]\n",
    "    lens = [int(x) for x in lengths.split(',')]\n",
    "    \n",
    "    for start, length in zip(starts, lens):\n",
    "        exon_seq = gene_seq[start:start+length]\n",
    "        exon_seqs.append(exon_seq)\n",
    "    \n",
    "    transcript_seq = ''.join(exon_seqs)\n",
    "    \n",
    "    if strand == '-':\n",
    "        transcript_seq = transcript_seq[::-1]  \n",
    "    return transcript_seq\n",
    "\n",
    "def process_files(fa_file, bed_file):\n",
    "  \n",
    "    gene_seqs = {}\n",
    "    current_gene = None\n",
    "    current_info = None\n",
    "    \n",
    "    with open(fa_file) as f:\n",
    "        for line in f:\n",
    "            line = line.strip()\n",
    "            if line.startswith('>'):\n",
    "                current_info = parse_fasta_header(line)\n",
    "                current_gene = current_info['gene_id']\n",
    "                gene_seqs[current_gene] = {'seq': '', 'info': current_info}\n",
    "            else:\n",
    "                gene_seqs[current_gene]['seq'] += line\n",
    "    \n",
    "   \n",
    "    df = pd.read_csv(bed_file, sep='\\t', header=None)\n",
    "    \n",
    "    with open('lncRNA2.fa', 'a') as outf:\n",
    "        for _, row in df.iterrows():\n",
    "            transcript_id = row[3].rsplit('-',1)[1]\n",
    "            gene_id = row[3].rsplit('-',1)[0]\n",
    "            if gene_id in gene_seqs:\n",
    "                transcript_seq = get_transcript_seq(\n",
    "                    gene_seqs[gene_id]['seq'],\n",
    "                    row[6],\n",
    "                    row[7],\n",
    "                    row[5]\n",
    "                )\n",
    "                outf.write(f\">{transcript_id}\\n{transcript_seq}\\n\")\n",
    "\n",
    "if __name__ == '__main__':\n",
    "    # seq_splice.bed is the file generated in the previous step.\n",
    "    process_files(fa_file='crispr_gene.fa', bed_file='seq_delete.bed')"
   ]
  }
 ],
 "metadata": {
  "kernelspec": {
   "display_name": "jupyter",
   "language": "python",
   "name": "python3"
  },
  "language_info": {
   "codemirror_mode": {
    "name": "ipython",
    "version": 3
   },
   "file_extension": ".py",
   "mimetype": "text/x-python",
   "name": "python",
   "nbconvert_exporter": "python",
   "pygments_lexer": "ipython3",
   "version": "3.8.19"
  }
 },
 "nbformat": 4,
 "nbformat_minor": 2
}
