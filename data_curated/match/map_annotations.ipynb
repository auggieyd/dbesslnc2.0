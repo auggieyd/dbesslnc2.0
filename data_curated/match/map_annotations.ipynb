{
 "cells": [
  {
   "cell_type": "markdown",
   "metadata": {},
   "source": [
    "## Step 1: Convert GTF files to custom BED files."
   ]
  },
  {
   "cell_type": "code",
   "execution_count": 21,
   "metadata": {},
   "outputs": [],
   "source": [
    "import re\n",
    "\n",
    "def extract_attribute(attr_str, key):\n",
    "    match = re.search(f'{key} \"([^\"]+)\"', attr_str)\n",
    "    return match.group(1) if match else \"N.A.\"\n",
    "input_gtf = 'gencode.v47.long_noncoding_RNAs.gtf' #gtf file path\n",
    "output_file = 'gencodev47.bed'\n",
    "with open(input_gtf, 'r') as f_in, open(output_file, 'w') as f_out:\n",
    "    for line in f_in:\n",
    "        if line.startswith('#'):\n",
    "            continue\n",
    "            \n",
    "        fields = line.strip().split('\\t')\n",
    "        if len(fields) < 9:\n",
    "            continue\n",
    "            \n",
    "        # annotations\n",
    "        chr_name = fields[0]\n",
    "        start = str(int(fields[3]) - 1)  \n",
    "        end = fields[4]\n",
    "        score = '.'\n",
    "        strand = fields[6]\n",
    "        feature_type = fields[2]\n",
    "        attributes = fields[8]\n",
    "        \n",
    "\n",
    "        gene_id = extract_attribute(attributes, 'gene_id')\n",
    "        transcript_id = extract_attribute(attributes, 'transcript_id')\n",
    "        gene_name = extract_attribute(attributes, 'gene_name')\n",
    "        \n",
    "\n",
    "        id_field = gene_id if feature_type == 'gene' else transcript_id\n",
    "\n",
    "        bed_line = f\"{chr_name}\\t{start}\\t{end}\\t{id_field}\\t{score}\\t{strand}\\t{gene_id}\\t{feature_type}\\t{gene_name}\\n\"\n",
    "        f_out.write(bed_line)"
   ]
  },
  {
   "cell_type": "markdown",
   "metadata": {},
   "source": [
    "### Step1.1: Generate files for subsequent steps"
   ]
  },
  {
   "cell_type": "code",
   "execution_count": 1,
   "metadata": {},
   "outputs": [],
   "source": [
    "import pandas as pd\n",
    "\n",
    "df = pd.read_csv('lncbook.bed', sep='\\t', header=None, names=['chr', 'start', 'end', 'trans_id', 'score', 'strand', 'gene_id', 'gene_type', 'gene_name'])\n",
    "df['gene_name'] = df['gene_name'].str.split(',').str[0]\n",
    "\n",
    "mask = (df['gene_type'] == 'gene') & (df['gene_name'] != 'N.A.')\n",
    "filtered_df = df[mask]\n",
    "\n",
    "result_df = filtered_df[['gene_name', 'gene_id']]\n",
    "\n",
    "\n",
    "result_df.to_csv('gene_mapping.txt', sep='\\t', index=False, header=False)"
   ]
  },
  {
   "cell_type": "markdown",
   "metadata": {},
   "source": [
    "## Step2:Map public database gene IDs and other annotation information."
   ]
  },
  {
   "cell_type": "code",
   "execution_count": null,
   "metadata": {},
   "outputs": [],
   "source": [
    "import os\n",
    "os.system('bedtools intersect -a crispr_all.bed -b lncbook.bed -wo -s -r -f 1 > lctemp.bed')\n",
    "os.system('bedtools intersect -a crispr_all.bed -b noncode.bed -wo -s -r -f 1 > nctemp.bed')\n",
    "os.system('bedtools intersect -a crispr_all.bed -b gencodev47.bed -wo -s -r -f 1 > gctemp.bed')"
   ]
  },
  {
   "cell_type": "code",
   "execution_count": 18,
   "metadata": {},
   "outputs": [],
   "source": [
    "# Filter the results processed by bedtools.\n",
    "from collections import defaultdict\n",
    "\n",
    "input_temp_bed_file = 'gctemp.bed'\n",
    "output_file = 'gcmap.tsv'\n",
    "\n",
    "groups = defaultdict(list)\n",
    "\n",
    "\n",
    "with open(input_temp_bed_file, 'r') as f:\n",
    "    for line in f:\n",
    "        fields = line.strip().split('\\t')\n",
    "        if len(fields) >= 15:\n",
    "            key = fields[3].rsplit('-', 1)[0]\n",
    "            transcript_id = fields[3].rsplit('-', 1)[1]\n",
    "            value = (transcript_id, fields[3], fields[9], fields[12], fields[14])\n",
    "         \n",
    "            if value not in groups[key]:\n",
    "                groups[key].append(value)\n",
    "\n",
    "\n",
    "with open(output_file, 'w') as out:\n",
    "    for group_id, values in groups.items():\n",
    "        for value in values:\n",
    "            out.write(f'{group_id}\\t{value[0]}\\t{value[1]}\\t{value[2]}\\t{value[3]}\\t{value[4]}\\n')"
   ]
  },
  {
   "cell_type": "code",
   "execution_count": 20,
   "metadata": {},
   "outputs": [],
   "source": [
    "# In the deduplication process,if multiple gene IDs are matched,manually select the one with the highest overlap ratio.\n",
    "from collections import defaultdict\n",
    "\n",
    "input_temp_tsv_file = 'gcmap.tsv'\n",
    "groups = defaultdict(set)\n",
    "\n",
    "\n",
    "with open(input_temp_tsv_file, 'r') as f:\n",
    "    for line in f:\n",
    "        fields = line.strip().split('\\t')\n",
    "        if len(fields) >= 5:\n",
    "            group_key = fields[0]  \n",
    "            gene_id = fields[4]    \n",
    "            groups[group_key].add(gene_id)\n",
    "\n",
    "\n",
    "with open('tocheck_id.txt', 'a') as out:\n",
    "    for group_key, gene_ids in groups.items():\n",
    "        if len(gene_ids) > 1:\n",
    "            out.write(f\"{group_key}\\t{','.join(gene_ids)}\\n\")"
   ]
  },
  {
   "cell_type": "code",
   "execution_count": 1,
   "metadata": {},
   "outputs": [
    {
     "data": {
      "text/plain": [
       "0"
      ]
     },
     "execution_count": 1,
     "metadata": {},
     "output_type": "execute_result"
    }
   ],
   "source": [
    "from collections import defaultdict\n",
    "import os\n",
    "\n",
    "primary_groups = defaultdict(lambda: defaultdict(list))\n",
    "sums = defaultdict(lambda: defaultdict(int))\n",
    "\n",
    "input_temp_bed_file = 'nctemp.bed'\n",
    "\n",
    "with open(input_temp_bed_file, 'r') as f:\n",
    "    for line in f:\n",
    "        fields = line.strip().split('\\t')\n",
    "        if len(fields) >= 16:\n",
    "            key = fields[3].rsplit('-', 1)[0]\n",
    "            gene_id = fields[12]\n",
    "            length = int(fields[15])\n",
    "            transcript_id = fields[3].rsplit('-', 1)[1]\n",
    "            value = (transcript_id, fields[3], fields[9], fields[12], fields[14], fields[13])\n",
    "           \n",
    "            primary_groups[key][gene_id].append(value)\n",
    "            sums[key][gene_id] += length\n",
    "\n",
    "\n",
    "with open('processed_results.tsv', 'w') as out:\n",
    "    for key, gene_groups in primary_groups.items():\n",
    "\n",
    "        if len(gene_groups) > 1:\n",
    "\n",
    "            max_gene_id = max(gene_groups.keys(), key=lambda x: sums[key][x])\n",
    "\n",
    "            for record in gene_groups[max_gene_id]:\n",
    "                out.write(key+'\\t'+'\\t'.join(record) + '\\n')\n",
    "        else:\n",
    "\n",
    "            for records in gene_groups.values():\n",
    "                for record in records:\n",
    "                    out.write(key+'\\t'+'\\t'.join(record) + '\\n')\n",
    "\n",
    "os.system('sort processed_results.tsv | uniq > noncode_map.tsv')\n"
   ]
  },
  {
   "cell_type": "code",
   "execution_count": null,
   "metadata": {},
   "outputs": [],
   "source": [
    "# Read and extract unique genes from noncode_map.tsv/lncbook_map.tsv/gencode_map.tsv\n",
    "with open('noncode_map.tsv', 'r') as f:\n",
    "    # Get unique genes from first column\n",
    "    exclude_genes = set(line.split('\\t')[0] for line in f)\n",
    "\n",
    "# Process crispr_all.bed and filter entries\n",
    "filtered_lines = []\n",
    "with open('crispr_all.bed', 'r') as f:\n",
    "    for line in f:\n",
    "        fields = line.strip().split('\\t')\n",
    "        # Extract gene name (part before last \"-\")\n",
    "        gene_name = fields[3].rsplit('-', 1)[0]\n",
    "        \n",
    "        # Keep line only if gene not in exclude list\n",
    "        if gene_name not in exclude_genes:\n",
    "            filtered_lines.append(line)\n",
    "\n",
    "# Write filtered results\n",
    "with open('filtered_non_crispr.bed', 'w') as f:\n",
    "    f.writelines(filtered_lines)\n",
    "\n",
    "# Print statistics\n",
    "print(f\"Total exclude genes: {len(exclude_genes)}\")\n",
    "print(f\"Output lines: {len(filtered_lines)}\")"
   ]
  },
  {
   "cell_type": "code",
   "execution_count": 30,
   "metadata": {},
   "outputs": [],
   "source": [
    "# Searching for gene entries where one exon is completely contained within another exon.\n",
    "!bedtools intersect -a filtered_lnc_crispr.bed -b lncbook.bed -wo -s -f 1 > res_lctemp.bed\n",
    "!bedtools intersect -a filtered_non_crispr.bed -b noncode.bed -wo -s -f 1 > res_nctemp.bed\n",
    "!bedtools intersect -a filtered_gen_crispr.bed -b gencodev47.bed -wo -s -f 1 > res_gctemp.bed"
   ]
  },
  {
   "cell_type": "code",
   "execution_count": 36,
   "metadata": {},
   "outputs": [
    {
     "name": "stdout",
     "output_type": "stream",
     "text": [
      "Processed pairs: 132\n"
     ]
    }
   ],
   "source": [
    "import pandas as pd\n",
    "\n",
    "# res_nctemp.bed and res_lctemp.bed\n",
    "gene_hsalng_pairs = []\n",
    "with open('res_gctemp.bed', 'r') as f:\n",
    "    for line in f:\n",
    "        fields = line.strip().split('\\t')\n",
    "        if fields[13] == 'exon' :\n",
    "            gene = fields[3].rsplit('-', 1)[0]\n",
    "            map_id = fields[12]\n",
    "            length = int(fields[15])\n",
    "            gene_name = fields[14]\n",
    "            gene_hsalng_pairs.append([gene, map_id, gene_name, length])\n",
    "\n",
    "# Convert to DataFrame for grouping operations\n",
    "df = pd.DataFrame(gene_hsalng_pairs, columns=['gene', 'map_id', 'gene_name','length'])\n",
    "\n",
    "# Find max sum groups\n",
    "sums = df.groupby(['gene', 'map_id', 'gene_name'])['length'].sum().reset_index()\n",
    "max_groups = (sums.sort_values('length', ascending=False)\n",
    "             .groupby('gene')\n",
    "             .first()\n",
    "             .reset_index()\n",
    "             [['gene', 'map_id', 'gene_name']])\n",
    "\n",
    "# Save results\n",
    "max_groups.to_csv('res_map.tsv', sep='\\t', header=False, index=False,mode='a')\n",
    "\n",
    "print(f\"Processed pairs: {len(max_groups)}\")"
   ]
  }
 ],
 "metadata": {
  "kernelspec": {
   "display_name": "jupyter",
   "language": "python",
   "name": "python3"
  },
  "language_info": {
   "codemirror_mode": {
    "name": "ipython",
    "version": 3
   },
   "file_extension": ".py",
   "mimetype": "text/x-python",
   "name": "python",
   "nbconvert_exporter": "python",
   "pygments_lexer": "ipython3",
   "version": "3.8.19"
  }
 },
 "nbformat": 4,
 "nbformat_minor": 2
}
