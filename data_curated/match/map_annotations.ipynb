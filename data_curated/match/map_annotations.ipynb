{
 "cells": [
  {
   "cell_type": "markdown",
   "metadata": {},
   "source": [
    "## Step 1: Convert GTF files to custom BED files."
   ]
  },
  {
   "cell_type": "code",
   "execution_count": null,
   "metadata": {},
   "outputs": [],
   "source": [
    "import re\n",
    "\n",
    "def extract_attribute(attr_str, key):\n",
    "    match = re.search(f'{key} \"([^\"]+)\"', attr_str)\n",
    "    return match.group(1) if match else \"N.A.\"\n",
    "\n",
    "def convert_gtf_to_bed(input_gtf, output_file):\n",
    "    \"\"\"\n",
    "    Convert GTF file to BED format.\n",
    "    \"\"\"\n",
    "    with open(input_gtf, 'r') as f_in, open(output_file, 'w') as f_out:\n",
    "        for line in f_in:\n",
    "            if line.startswith('#'):\n",
    "                continue\n",
    "\n",
    "            fields = line.strip().split('\\t')\n",
    "            if len(fields) < 9:\n",
    "                continue\n",
    "\n",
    "            # annotations\n",
    "            chr_name = fields[0]\n",
    "            start = str(int(fields[3]) - 1)  \n",
    "            end = fields[4]\n",
    "            score = '.'\n",
    "            strand = fields[6]\n",
    "            feature_type = fields[2]\n",
    "            attributes = fields[8]\n",
    "\n",
    "\n",
    "            gene_id = extract_attribute(attributes, 'gene_id')\n",
    "            transcript_id = extract_attribute(attributes, 'transcript_id')\n",
    "            gene_name = extract_attribute(attributes, 'gene_name')\n",
    "\n",
    "\n",
    "            id_field = gene_id if feature_type == 'gene' else transcript_id\n",
    "\n",
    "            bed_line = f\"{chr_name}\\t{start}\\t{end}\\t{id_field}\\t{score}\\t{strand}\\t{gene_id}\\t{feature_type}\\t{gene_name}\\n\"\n",
    "            f_out.write(bed_line)\n",
    "if __name__ == \"__main__\":\n",
    "   convert_gtf_to_bed(\"./test/gencode.v47.long_noncoding_RNAs.gtf\", \"./test/output/gencodev47.bed\")\n",
    "   convert_gtf_to_bed(\"./test/NONCODEv6_human_hg38_lncRNA.gtf\", \"./test/output/noncode.bed\")\n",
    "   convert_gtf_to_bed(\"./test/lncRNA_LncBookv2.0_GRCh38.gtf\", \"./test/output/lncbook.bed\")"
   ]
  },
  {
   "cell_type": "code",
   "execution_count": null,
   "metadata": {},
   "outputs": [],
   "source": [
    "# for NCBI GTF, we use a specific script to handle the lncRNA-only conversion\n",
    "!python3 conBed.py ./test/GCF_000001405.40_GRCh38.p14_genomic.gtf ./test/output/ncbi.bed --lncrna-only\n"
   ]
  },
  {
   "cell_type": "markdown",
   "metadata": {},
   "source": [
    "### Step1.1: Generate files for subsequent steps"
   ]
  },
  {
   "cell_type": "code",
   "execution_count": null,
   "metadata": {},
   "outputs": [],
   "source": [
    "import pandas as pd\n",
    "\n",
    "df = pd.read_csv('lncbook.bed', sep='\\t', header=None, names=['chr', 'start', 'end', 'trans_id', 'score', 'strand', 'gene_id', 'gene_type', 'gene_name'])\n",
    "df['gene_name'] = df['gene_name'].str.split(',').str[0]\n",
    "\n",
    "mask = (df['gene_type'] == 'gene') & (df['gene_name'] != 'N.A.')\n",
    "filtered_df = df[mask]\n",
    "\n",
    "result_df = filtered_df[['gene_name', 'gene_id']]\n",
    "\n",
    "\n",
    "result_df.to_csv('gene_mapping.txt', sep='\\t', index=False, header=False)"
   ]
  },
  {
   "cell_type": "markdown",
   "metadata": {},
   "source": [
    "## Step2:Map public database gene IDs and other annotation information."
   ]
  },
  {
   "cell_type": "code",
   "execution_count": null,
   "metadata": {},
   "outputs": [],
   "source": [
    "import os\n",
    "os.system('bedtools intersect -a ./test/output/crispr_all.bed -b ./test/output/lncbook.bed -wo -s  -f 1 > ./test/output/lctemp.bed')\n",
    "os.system('bedtools intersect -a ./test/output/crispr_all.bed -b ./test/output/noncode.bed -wo -s  -f 1 > ./test/output/nctemp.bed')\n",
    "os.system('bedtools intersect -a ./test/output/crispr_all.bed -b ./test/output/gencodev47.bed -wo -s  -f 1 > ./test/output/gctemp.bed')\n",
    "os.system('bedtools intersect -a ./test/output/crispr_all.bed -b ./test/output/ncbi.bed -wo -s -f 1 > ./test/output/nbtemp.bed')"
   ]
  },
  {
   "cell_type": "code",
   "execution_count": null,
   "metadata": {},
   "outputs": [],
   "source": [
    "# Process the temporary BED file to generate a TSV file; remove duplicates by cumulative overlapping length\n",
    "from collections import defaultdict\n",
    "import os\n",
    "def bed2tsv(input_temp_bed_file, result_file):\n",
    "    \"\"\"\n",
    "    Convert a temporary BED file to a TSV file with specific fields.\n",
    "    \"\"\"\n",
    "     # \n",
    "    primary_groups = defaultdict(lambda: defaultdict(dict))\n",
    "    sums = defaultdict(lambda: defaultdict(int))\n",
    "    gene_regions = defaultdict(lambda: defaultdict(lambda: [float('inf'), -float('inf')]))\n",
    "\n",
    "    with open(input_temp_bed_file, 'r') as f:\n",
    "        print(\"Processing file:\", input_temp_bed_file)\n",
    "        for line in f:\n",
    "            fields = line.strip().split('\\t')\n",
    "            if len(fields) >= 16:  \n",
    "                key = fields[3].rsplit('-', 1)[0]\n",
    "                gene_id = fields[12]\n",
    "                feature = fields[13]\n",
    "                length = int(fields[15])\n",
    "                transcript_id = fields[3].rsplit('-', 1)[1]\n",
    "                \n",
    "\n",
    "                col8 = fields[7]\n",
    "                col9 = fields[8]\n",
    "                deduplicate_key = (col8, col9)  \n",
    "                mapped_gene_start = int(col8)\n",
    "                mapped_gene_end = int(col9)\n",
    "                current_gene_region = gene_regions[key][gene_id]\n",
    "                if mapped_gene_start < current_gene_region[0]:\n",
    "                    current_gene_region[0] = mapped_gene_start\n",
    "                if mapped_gene_end > current_gene_region[1]:\n",
    "                    current_gene_region[1] = mapped_gene_end\n",
    "\n",
    "                value = (transcript_id, fields[9], fields[12], fields[14], fields[13])\n",
    "\n",
    "\n",
    "                if deduplicate_key not in primary_groups[key][gene_id]:\n",
    "                    primary_groups[key][gene_id][deduplicate_key] = value\n",
    "                    if feature == 'exon':\n",
    "                        sums[key][gene_id] += length\n",
    "\n",
    "    def process_multi(key,gene_groups, sums, gene_region):\n",
    "        def priority_sort(gene_id):\n",
    "            sum_length = sums[key][gene_id]\n",
    "            region_length = gene_region[key][gene_id][1] - gene_region[key][gene_id][0]\n",
    "            covarage_ratio = sum_length / region_length if region_length > 0 else 0\n",
    "            return (sum_length, covarage_ratio)\n",
    "        return max(gene_groups, key=priority_sort)\n",
    "\n",
    "\n",
    "    with open('temp.tsv', 'w') as out:\n",
    "        print(len(primary_groups), \"primary groups found\")\n",
    "        for key, gene_groups in primary_groups.items():\n",
    "\n",
    "            if len(gene_groups) > 1:\n",
    "\n",
    "                max_gene_id = process_multi(key,gene_groups, sums, gene_regions)\n",
    "\n",
    "                for record in gene_groups[max_gene_id].values():\n",
    "                    out.write(key+'\\t'+'\\t'.join(record) + '\\n')\n",
    "            else:\n",
    "\n",
    "                for records in gene_groups.values():\n",
    "                    for record in records.values():\n",
    "                        out.write(key+'\\t'+'\\t'.join(record) + '\\n')\n",
    "\n",
    "    os.system('sort temp.tsv | uniq > ' + result_file)\n",
    "    print(f\"Results written to {result_file}\")\n",
    "if __name__ == \"__main__\":\n",
    "    bed2tsv(\"./test/output/gctemp.bed\", \"./test/map/gencode_map.tsv\")\n",
    "    bed2tsv(\"./test/output/lctemp.bed\", \"./test/map/lncbook_map.tsv\")\n",
    "    bed2tsv(\"./test/output/nctemp.bed\", \"./test/map/noncode_map.tsv\")\n"
   ]
  },
  {
   "cell_type": "code",
   "execution_count": null,
   "metadata": {},
   "outputs": [],
   "source": [
    "#for NCBI bed\n",
    "!python3 pro1.py ./test/output/nbtemp.bed ./test/map/ncbi_map.tsv"
   ]
  },
  {
   "cell_type": "markdown",
   "metadata": {},
   "source": [
    "## Delete temporary files"
   ]
  },
  {
   "cell_type": "code",
   "execution_count": null,
   "metadata": {},
   "outputs": [],
   "source": [
    "!rm -f temp.tsv \n",
    "!rm -f ./test/output/lctemp.bed ./test/output/nctemp.bed ./test/output/gctemp.bed ./test/output/nbtemp.bed"
   ]
  },
  {
   "cell_type": "markdown",
   "metadata": {},
   "source": [
    "### The following code is verification test code and can be not executed."
   ]
  },
  {
   "cell_type": "code",
   "execution_count": null,
   "metadata": {},
   "outputs": [],
   "source": [
    "# Temporary verification code\n",
    "from collections import defaultdict\n",
    "\n",
    "\n",
    "def  bed2tsv_temp(input_temp_bed_file, output_file):\n",
    "    \"\"\"\n",
    "    Convert a temporary BED file to a TSV file with specific fields.\n",
    "    \"\"\"\n",
    "    groups = defaultdict(set)  # 使用set自动去重\n",
    "    \n",
    "    with open(input_temp_bed_file, 'r') as f:\n",
    "        for line in f:\n",
    "            fields = line.strip().split('\\t')\n",
    "            if len(fields) >= 15:\n",
    "                key = fields[3].rsplit('-', 1)[0]\n",
    "                transcript_id = fields[3].rsplit('-', 1)[1]\n",
    "                value = (transcript_id, fields[9], fields[12], fields[14])\n",
    "                \n",
    "                groups[key].add(value)  # set自动去重\n",
    "    \n",
    "    with open(output_file, 'w') as out:\n",
    "        for group_id, values in groups.items():\n",
    "            for value in values:\n",
    "                out.write(f'{group_id}\\t{value[0]}\\t{value[1]}\\t{value[2]}\\t{value[3]}\\n')\n",
    "\n",
    "if __name__ == \"__main__\":\n",
    "    bed2tsv_temp(\"./test/output/gctemp.bed\", \"./test/map/gcmap.tsv\")\n",
    "    bed2tsv_temp(\"./test/output/lctemp.bed\", \"./test/map/lcmap.tsv\")\n",
    "    bed2tsv_temp(\"./test/output/nctemp.bed\", \"./test/map/ncmap.tsv\")"
   ]
  },
  {
   "cell_type": "code",
   "execution_count": null,
   "metadata": {},
   "outputs": [],
   "source": [
    "# In the deduplication process,if multiple gene IDs are matched,manually select the one with the highest overlap ratio.\n",
    "from collections import defaultdict\n",
    "\n",
    "input_temp_tsv_file = './test/map/gcmap.tsv'\n",
    "groups = defaultdict(set)\n",
    "\n",
    "\n",
    "with open(input_temp_tsv_file, 'r') as f:\n",
    "    for line in f:\n",
    "        fields = line.strip().split('\\t')\n",
    "        if len(fields) >= 5:\n",
    "            group_key = fields[0]  \n",
    "            gene_id = fields[3]    \n",
    "            groups[group_key].add(gene_id)\n",
    "\n",
    "\n",
    "with open('tocheck_id.txt', 'a') as out:\n",
    "    for group_key, gene_ids in groups.items():\n",
    "        if len(gene_ids) > 1:\n",
    "            out.write(f\"{group_key}\\t{','.join(gene_ids)}\\n\")"
   ]
  }
 ],
 "metadata": {
  "kernelspec": {
   "display_name": "jupyter",
   "language": "python",
   "name": "python3"
  },
  "language_info": {
   "codemirror_mode": {
    "name": "ipython",
    "version": 3
   },
   "file_extension": ".py",
   "mimetype": "text/x-python",
   "name": "python",
   "nbconvert_exporter": "python",
   "pygments_lexer": "ipython3",
   "version": "3.8.19"
  }
 },
 "nbformat": 4,
 "nbformat_minor": 2
}
