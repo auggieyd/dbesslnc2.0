{
 "cells": [
  {
   "cell_type": "markdown",
   "metadata": {},
   "source": [
    "## Step1. Coordinate Matching"
   ]
  },
  {
   "cell_type": "code",
   "execution_count": null,
   "metadata": {},
   "outputs": [],
   "source": [
    "import re\n",
    "\n",
    "# read id list\n",
    "# When executing crispr_splice and crispr_delete, change the file path.\n",
    "id_list = './test/crispri_id.txt'\n",
    "gtf_file = './test/lncrna.gtf'\n",
    "# change the output file path as needed.\n",
    "custom_bed_file = './test/output/crispri_temp.bed' \n",
    "with open(id_list, 'r') as f:\n",
    "    crispr_ids = set(line.strip() for line in f)\n",
    "\n",
    "#  Process the GTF file.\n",
    "def extract_attribute(attr_str, key):\n",
    "    match = re.search(f'{key} \"([^\"]+)\"', attr_str)\n",
    "    return match.group(1) if match else None\n",
    "\n",
    "# Convert to a BED file.\n",
    "with open(gtf_file, 'r') as f_in, \\\n",
    "     open(custom_bed_file, 'w') as f_out:\n",
    "    for line in f_in:\n",
    "        if line.startswith('#'):\n",
    "            continue\n",
    "        \n",
    "        fields = line.strip().split('\\t')\n",
    "        if len(fields) < 9:\n",
    "            continue\n",
    "            \n",
    "        chr_name = fields[0]\n",
    "        start = str(int(fields[3]) - 1)  # BED 0-based\n",
    "        end = fields[4]\n",
    "        feature_type = fields[2]\n",
    "        strand = fields[6]\n",
    "        attributes = fields[8]\n",
    "\n",
    "        gene_id = extract_attribute(attributes, 'gene_id')\n",
    "        if gene_id not in crispr_ids:\n",
    "            continue\n",
    "\n",
    "        if feature_type == 'transcript':\n",
    "            id_field = extract_attribute(attributes, 'transcript_id')\n",
    "        elif feature_type == 'exon':\n",
    "            id_field = extract_attribute(attributes, 'exon_id') \n",
    "        else:  # gene\n",
    "            id_field = extract_attribute(attributes, 'gene_id')\n",
    "        gene_id = extract_attribute(attributes, 'gene_id')\n",
    "        bed_line = f\"{chr_name}\\t{start}\\t{end}\\t{gene_id}-{id_field}\\t0\\t{strand}\\n\"\n",
    "        f_out.write(bed_line)"
   ]
  },
  {
   "cell_type": "code",
   "execution_count": null,
   "metadata": {},
   "outputs": [],
   "source": [
    "import re\n",
    "\n",
    "# read id list\n",
    "id_list = './test/crispr_delete_id.txt'\n",
    "gtf_file = './test/gencode.v19.long_noncoding_RNAs.gtf'\n",
    "# change the output file path as needed.\n",
    "custom_bed_file = './test/output/crispr_delete_temp.bed' \n",
    "with open(id_list, 'r') as f:\n",
    "    crispr_ids = set(line.strip() for line in f)\n",
    "\n",
    "#  Process the GTF file.\n",
    "def extract_attribute(attr_str, key):\n",
    "    match = re.search(f'{key} \"([^\"]+)\"', attr_str)\n",
    "    return match.group(1) if match else None\n",
    "\n",
    "# Convert to a BED file.\n",
    "with open(gtf_file, 'r') as f_in, \\\n",
    "     open(custom_bed_file, 'w') as f_out:\n",
    "    for line in f_in:\n",
    "        if line.startswith('#'):\n",
    "            continue\n",
    "        \n",
    "        fields = line.strip().split('\\t')\n",
    "        if len(fields) < 9:\n",
    "            continue\n",
    "            \n",
    "        chr_name = fields[0]\n",
    "        start = str(int(fields[3]) - 1)  # BED 0-based\n",
    "        end = fields[4]\n",
    "        feature_type = fields[2]\n",
    "        strand = fields[6]\n",
    "        attributes = fields[8]\n",
    "\n",
    "        gene_name = extract_attribute(attributes, 'gene_name')\n",
    "        if gene_name not in crispr_ids:\n",
    "            continue\n",
    "        if feature_type == 'transcript':\n",
    "            id_field = extract_attribute(attributes, 'transcript_id')\n",
    "        elif feature_type == 'exon':\n",
    "            id_field = extract_attribute(attributes, 'exon_id') # When generating sequences,change to using`transcript_id`.\n",
    "        else:  # gene\n",
    "            id_field = extract_attribute(attributes, 'gene_id')\n",
    "        gene_id = extract_attribute(attributes, 'gene_id')\n",
    "\n",
    "        bed_line = f\"{chr_name}\\t{start}\\t{end}\\t{gene_name}-{id_field}\\t0\\t{strand}\\n\"\n",
    "        \n",
    "        f_out.write(bed_line)"
   ]
  },
  {
   "cell_type": "code",
   "execution_count": null,
   "metadata": {},
   "outputs": [],
   "source": [
    "import re\n",
    "\n",
    "# read id list\n",
    "# When executing crispr_splice and crispr_delete, change the file path.\n",
    "id_list = './test/crispr_splice_id.txt'\n",
    "gtf_file = './test/gencode.v20.long_noncoding_RNAs.gtf'\n",
    "# change the output file path as needed.\n",
    "custom_bed_file = './test/output/crispr_splice_temp.bed' \n",
    "with open(id_list, 'r') as f:\n",
    "    crispr_ids = set(line.strip() for line in f)\n",
    "\n",
    "#  Process the GTF file.\n",
    "def extract_attribute(attr_str, key):\n",
    "    match = re.search(f'{key} \"([^\"]+)\"', attr_str)\n",
    "    return match.group(1) if match else None\n",
    "\n",
    "# Convert to a BED file.\n",
    "with open(gtf_file, 'r') as f_in, \\\n",
    "     open(custom_bed_file, 'w') as f_out:\n",
    "    for line in f_in:\n",
    "        if line.startswith('#'):\n",
    "            continue\n",
    "        \n",
    "        fields = line.strip().split('\\t')\n",
    "        if len(fields) < 9:\n",
    "            continue\n",
    "            \n",
    "        chr_name = fields[0]\n",
    "        start = str(int(fields[3]) - 1)  # BED 0-based\n",
    "        end = fields[4]\n",
    "        feature_type = fields[2]\n",
    "        strand = fields[6]\n",
    "        attributes = fields[8]\n",
    "\n",
    "        gene_name = extract_attribute(attributes, 'gene_name')\n",
    "        if gene_name not in crispr_ids:\n",
    "            continue\n",
    "        if feature_type == 'transcript':\n",
    "            id_field = extract_attribute(attributes, 'transcript_id')\n",
    "        elif feature_type == 'exon':\n",
    "            id_field = extract_attribute(attributes, 'exon_id') # When generating sequences,change to using`transcript_id`.\n",
    "        else:  # gene\n",
    "            id_field = extract_attribute(attributes, 'gene_id')\n",
    "        gene_id = extract_attribute(attributes, 'gene_id')\n",
    "        if gene_name == 'LINC00869' and gene_id == 'ENSG00000277147.1':\n",
    "            continue  # 跳过不处理\n",
    "\n",
    "        bed_line = f\"{chr_name}\\t{start}\\t{end}\\t{gene_name}-{id_field}\\t0\\t{strand}\\n\"\n",
    "        \n",
    "        f_out.write(bed_line)"
   ]
  },
  {
   "cell_type": "code",
   "execution_count": null,
   "metadata": {},
   "outputs": [],
   "source": [
    "# Process the raw file of crispr_casRx and convert it to a bed file\n",
    "!python3 process_casrx.py"
   ]
  },
  {
   "cell_type": "markdown",
   "metadata": {},
   "source": [
    "## Step2: Convert hg19 to hg38"
   ]
  },
  {
   "cell_type": "code",
   "execution_count": null,
   "metadata": {},
   "outputs": [],
   "source": [
    "import os\n",
    "\n",
    "# flow,convert to hg38\n",
    "os.system('../liftOver ./test/output/crispri_temp.bed ../hg19ToHg38.over.chain.gz ./test/output/crispri38_temp.bed ./test/output/unmap_crispri.bed')\n",
    "os.system('../liftOver ./test/output/crispr_delete_temp.bed ../hg19ToHg38.over.chain.gz ./test/output/crispr_delete38.bed ./test/output/unmap_crispr_delete.bed')\n",
    "os.system('grep -v -E \"LH00477|LH02126|LH14878\" ./test/output/crispri38_temp.bed > ./test/output/crispri38.bed')\n"
   ]
  },
  {
   "cell_type": "markdown",
   "metadata": {},
   "source": [
    "## Step3: Merge all bed files\n"
   ]
  },
  {
   "cell_type": "code",
   "execution_count": null,
   "metadata": {},
   "outputs": [],
   "source": [
    "!cat ./test/output/crispr_splice_temp.bed ./test/output/crispr_delete38.bed ./test/output/crispri38.bed ./test/output/crispr_casrx38.bed > ./test/output/crispr_all.bed"
   ]
  }
 ],
 "metadata": {
  "kernelspec": {
   "display_name": "jupyter",
   "language": "python",
   "name": "python3"
  },
  "language_info": {
   "codemirror_mode": {
    "name": "ipython",
    "version": 3
   },
   "file_extension": ".py",
   "mimetype": "text/x-python",
   "name": "python",
   "nbconvert_exporter": "python",
   "pygments_lexer": "ipython3",
   "version": "3.8.19"
  }
 },
 "nbformat": 4,
 "nbformat_minor": 2
}
