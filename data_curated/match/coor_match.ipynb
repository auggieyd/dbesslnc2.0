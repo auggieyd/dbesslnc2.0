{
 "cells": [
  {
   "cell_type": "markdown",
   "metadata": {},
   "source": [
    "## Step1. Coordinate Matching"
   ]
  },
  {
   "cell_type": "code",
   "execution_count": 6,
   "metadata": {},
   "outputs": [],
   "source": [
    "import re\n",
    "\n",
    "# read crispr id list\n",
    "id_list = '/home/auggie/data/crispri/crispri_id.txt'\n",
    "gtf_file = '/home/auggie/data/crispri/lncrna.gtf'\n",
    "# Only for`crispr_splice`and`crispr_delete`.When performing the sequence generation step, specific intermediate files need to be generated, \n",
    "# and hg19 still requires the following coordinate conversion steps.\n",
    "custom_bed_file = 'crispri19_temp.bed' \n",
    "with open(id_list, 'r') as f:\n",
    "    crispr_ids = set(line.strip() for line in f)\n",
    "\n",
    "#  Process the GTF file.\n",
    "def extract_attribute(attr_str, key):\n",
    "    match = re.search(f'{key} \"([^\"]+)\"', attr_str)\n",
    "    return match.group(1) if match else None\n",
    "\n",
    "# Convert to a BED file.\n",
    "with open(gtf_file, 'r') as f_in, \\\n",
    "     open(custom_bed_file, 'w') as f_out:\n",
    "    for line in f_in:\n",
    "        if line.startswith('#'):\n",
    "            continue\n",
    "        \n",
    "        fields = line.strip().split('\\t')\n",
    "        if len(fields) < 9:\n",
    "            continue\n",
    "            \n",
    "        chr_name = fields[0]\n",
    "        start = str(int(fields[3]) - 1)  # BED 0-based\n",
    "        end = fields[4]\n",
    "        feature_type = fields[2]\n",
    "        strand = fields[6]\n",
    "        attributes = fields[8]\n",
    "        \n",
    "        # crispr splice / delete\n",
    "        # gene_name = extract_attribute(attributes, 'gene_name')\n",
    "        # if gene_name not in crispr_ids:\n",
    "        #     continue\n",
    "        #-------------------------------------------------------\n",
    "\n",
    "        # crispri\n",
    "        gene_id = extract_attribute(attributes, 'gene_id')\n",
    "        if gene_id not in crispr_ids:\n",
    "            continue\n",
    "\n",
    "\n",
    "        if feature_type == 'transcript':\n",
    "            id_field = extract_attribute(attributes, 'transcript_id')\n",
    "        elif feature_type == 'exon':\n",
    "            id_field = extract_attribute(attributes, 'exon_id') # When generating sequences,change to using`transcript_id`.\n",
    "        else:  # gene\n",
    "            id_field = extract_attribute(attributes, 'gene_id')\n",
    "        gene_id = extract_attribute(attributes, 'gene_id')\n",
    "\n",
    "        # bed_line = f\"{chr_name}\\t{start}\\t{end}\\t{gene_name}-{id_field}\\t0\\t{strand}\\n\"\n",
    "        # When extracting CRISPRi coordinates,comment out the line above and use the line below.\n",
    "        bed_line = f\"{chr_name}\\t{start}\\t{end}\\t{gene_id}-{id_field}\\t0\\t{strand}\\n\"\n",
    "        f_out.write(bed_line)"
   ]
  },
  {
   "cell_type": "markdown",
   "metadata": {},
   "source": [
    "## Step2: Convert hg19 to hg38"
   ]
  },
  {
   "cell_type": "code",
   "execution_count": null,
   "metadata": {},
   "outputs": [],
   "source": [
    "import os\n",
    "\n",
    "# flow,convert to hg38\n",
    "os.system('../liftOver crispr_delete19.bed ../hg19ToHg38.over.chain.gz crispr_delete38.bed unmap_crispri.bed')"
   ]
  },
  {
   "cell_type": "markdown",
   "metadata": {},
   "source": [
    "## Step3: Merge lncRNA entries.\n",
    "Identify entries that can be merged and entries that require further inspection."
   ]
  },
  {
   "cell_type": "code",
   "execution_count": 27,
   "metadata": {},
   "outputs": [],
   "source": [
    "from collections import defaultdict\n",
    "\n",
    "\n",
    "groups = defaultdict(list)\n",
    "with open('temp.bed', 'r') as f:\n",
    "    for line in f:\n",
    "        fields = line.strip().split('\\t')\n",
    "        if len(fields) >= 4:\n",
    "            name_parts1 = fields[3].rsplit('-', 1)\n",
    "            name_parts2 = fields[9].rsplit('-', 1)\n",
    "            if len(name_parts1) == 2:\n",
    "                gene_name = name_parts1[0]    # TMEM9B-AS1\n",
    "                ense_id = name_parts1[1]\n",
    "                lh_id = name_parts2[0]\n",
    "                lht_id = name_parts2[1]\n",
    "                mid =  gene_name+\"=\"+ lh_id     # ENSE00002173967.1\n",
    "                groups[mid].append(ense_id)\n",
    "\n",
    "\n",
    "with open('tocheck.txt', 'a') as check_out, open('merge.txt', 'a') as merge_out:\n",
    "    for mid, eids in groups.items():\n",
    "        if all(eid.startswith('ENSE') for eid in eids):\n",
    "            for eid in eids:\n",
    "                check_out.write(f\"{mid}-{eid}\\n\")\n",
    "        elif all(eid.startswith('LH') for eid in eids) and all('.' in eid for eid in eids):\n",
    "            for eid in eids:\n",
    "                merge_out.write(f\"{mid}-{eid}\\n\")\n",
    "        else:\n",
    "            merge_out.write(f\"{mid}\\n\")"
   ]
  },
  {
   "cell_type": "markdown",
   "metadata": {},
   "source": [
    "## Step4: Merge Workflow\n"
   ]
  },
  {
   "cell_type": "code",
   "execution_count": null,
   "metadata": {},
   "outputs": [],
   "source": [
    "import os\n",
    "\n",
    "# flow\n",
    "os.system('bedtools intersect -a crispr_delete38.bed -b crispr_splice38.bed -wo -s -r -f 1 > temp.bed ')\n",
    "# Execute Step 2 to identify lncRNA entries that can be merged and those that require further inspection.\n",
    "os.system('awk \\'FNR==NR{print;next} {print}\\' crispr_splice38.bed crispr_delete38.bed > crispr_temp1.bed')\n",
    "os.system('bedtools intersect -a crispr_temp1.bed -b crispri38.bed -wo -s -r -f 1 > temp2.bed ')\n",
    "# Execute Step 2 to identify lncRNA entries that can be merged and those that require further inspection.\n",
    "os.system('awk \\'FNR==NR{print;next} {print}\\' crispr_temp1.bed crispri38.bed > crispr_temp2.bed')\n",
    "os.system('bedtools intersect -a crispr_temp2.bed -b crispri.bed -wo -s -r -f 1 > temp3.bed ')\n",
    "# Execute Step 2 to identify lncRNA entries that can be merged and those that require further inspection.\n",
    "os.system('awk \\'FNR==NR{print;next} {print}\\' crispr_temp2.bed crispr_casrx38.bed > crispr_all.bed')\n",
    "#"
   ]
  }
 ],
 "metadata": {
  "kernelspec": {
   "display_name": "jupyter",
   "language": "python",
   "name": "python3"
  },
  "language_info": {
   "codemirror_mode": {
    "name": "ipython",
    "version": 3
   },
   "file_extension": ".py",
   "mimetype": "text/x-python",
   "name": "python",
   "nbconvert_exporter": "python",
   "pygments_lexer": "ipython3",
   "version": "3.8.19"
  }
 },
 "nbformat": 4,
 "nbformat_minor": 2
}
